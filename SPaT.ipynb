{
 "cells": [
  {
   "cell_type": "code",
   "execution_count": null,
   "id": "021ac8b3-13b0-4364-8d2f-73e7df051489",
   "metadata": {},
   "outputs": [],
   "source": [
    "import socket\n",
    "import threading\n",
    "import time\n",
    "\n",
    "def send_spat_message(filename, rsu_ip, rsu_port):\n",
    "    # Read SPaT message from file\n",
    "    with open(filename, 'r') as file:\n",
    "        spat_message = file.read()\n",
    "\n",
    "    # Create a UDP socket\n",
    "    sock = socket.socket(socket.AF_INET, socket.SOCK_DGRAM)\n",
    "\n",
    "    # Define RSU address and port\n",
    "    rsu_address = (rsu_ip, rsu_port)\n",
    "\n",
    "    try:\n",
    "        while True:\n",
    "            # Send SPaT message to RSU\n",
    "            sock.sendto(spat_message.encode(), rsu_address)\n",
    "            print(\"SPaT message sent to RSU at {}:{}\".format(rsu_ip, rsu_port))\n",
    "\n",
    "            # Wait for 100ms\n",
    "            time.sleep(0.1)\n",
    "    except Exception as e:\n",
    "        print(\"Error occurred while sending SPaT message:\", str(e))\n",
    "    finally:\n",
    "        # Close the socket\n",
    "        sock.close()\n",
    "\n",
    "def main():\n",
    "    filename = \"SPAT_Payloads\"\n",
    "    rsu_ip = \"192.168.1.100\"  # Replace with the RSU's IP address\n",
    "    rsu_port = 1516\n",
    "\n",
    "    # Start the sending thread\n",
    "    sending_thread = threading.Thread(target=send_spat_message, args=(filename, rsu_ip, rsu_port))\n",
    "    sending_thread.start()\n",
    "\n",
    "    # Main thread can do other tasks or sleep indefinitely\n",
    "    while True:\n",
    "        time.sleep(1)  # Sleep to prevent the main thread from exiting\n",
    "\n",
    "if __name__ == \"__main__\":\n",
    "    main()\n"
   ]
  }
 ],
 "metadata": {
  "kernelspec": {
   "display_name": "Python 3 (ipykernel)",
   "language": "python",
   "name": "python3"
  },
  "language_info": {
   "codemirror_mode": {
    "name": "ipython",
    "version": 3
   },
   "file_extension": ".py",
   "mimetype": "text/x-python",
   "name": "python",
   "nbconvert_exporter": "python",
   "pygments_lexer": "ipython3",
   "version": "3.11.7"
  }
 },
 "nbformat": 4,
 "nbformat_minor": 5
}
